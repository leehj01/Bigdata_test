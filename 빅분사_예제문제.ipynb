{
 "cells": [
  {
   "cell_type": "markdown",
   "metadata": {},
   "source": [
    "### 작업형 1"
   ]
  },
  {
   "cell_type": "markdown",
   "metadata": {},
   "source": [
    "mtcars 데이터셋(mtcars.csv)의 qsec 컬럼을 최소최대 척도(Min-Max Scale)로 변환한 후 0.5보다\n",
    "큰 값을 가지는 레코드 수를 구하시오"
   ]
  },
  {
   "cell_type": "code",
   "execution_count": 2,
   "metadata": {},
   "outputs": [],
   "source": [
    "import pandas as pd"
   ]
  },
  {
   "cell_type": "code",
   "execution_count": 3,
   "metadata": {},
   "outputs": [],
   "source": [
    "mtcars = pd.read_csv('mtcars.csv')"
   ]
  },
  {
   "cell_type": "markdown",
   "metadata": {},
   "source": []
  },
  {
   "cell_type": "code",
   "execution_count": null,
   "metadata": {},
   "outputs": [],
   "source": []
  },
  {
   "cell_type": "code",
   "execution_count": null,
   "metadata": {},
   "outputs": [],
   "source": []
  },
  {
   "cell_type": "code",
   "execution_count": null,
   "metadata": {},
   "outputs": [],
   "source": []
  },
  {
   "cell_type": "code",
   "execution_count": null,
   "metadata": {},
   "outputs": [],
   "source": []
  },
  {
   "cell_type": "code",
   "execution_count": null,
   "metadata": {},
   "outputs": [],
   "source": []
  },
  {
   "cell_type": "code",
   "execution_count": null,
   "metadata": {},
   "outputs": [],
   "source": []
  },
  {
   "cell_type": "code",
   "execution_count": null,
   "metadata": {},
   "outputs": [],
   "source": []
  },
  {
   "cell_type": "code",
   "execution_count": null,
   "metadata": {},
   "outputs": [],
   "source": []
  },
  {
   "cell_type": "code",
   "execution_count": null,
   "metadata": {},
   "outputs": [],
   "source": []
  },
  {
   "cell_type": "markdown",
   "metadata": {},
   "source": [
    "# 작업유형 2"
   ]
  },
  {
   "cell_type": "code",
   "execution_count": 28,
   "metadata": {},
   "outputs": [
    {
     "name": "stdout",
     "output_type": "stream",
     "text": [
      "(3500, 10) (3500, 2) (2482, 10)\n"
     ]
    }
   ],
   "source": [
    "x_train = pd.read_csv('dataset/x_train.csv',encoding = 'euc_kr')\n",
    "x_test = pd.read_csv('dataset/X_test.csv',encoding = 'euc_kr')\n",
    "y_train = pd.read_csv('dataset/y_train.csv',encoding = 'euc_kr')\n",
    "print(x_train.shape ,y_train.shape , x_test.shape)"
   ]
  },
  {
   "cell_type": "markdown",
   "metadata": {},
   "source": [
    "### EDA"
   ]
  },
  {
   "cell_type": "code",
   "execution_count": 29,
   "metadata": {},
   "outputs": [
    {
     "data": {
      "text/html": [
       "<div>\n",
       "<style scoped>\n",
       "    .dataframe tbody tr th:only-of-type {\n",
       "        vertical-align: middle;\n",
       "    }\n",
       "\n",
       "    .dataframe tbody tr th {\n",
       "        vertical-align: top;\n",
       "    }\n",
       "\n",
       "    .dataframe thead th {\n",
       "        text-align: right;\n",
       "    }\n",
       "</style>\n",
       "<table border=\"1\" class=\"dataframe\">\n",
       "  <thead>\n",
       "    <tr style=\"text-align: right;\">\n",
       "      <th></th>\n",
       "      <th>count</th>\n",
       "      <th>unique</th>\n",
       "      <th>top</th>\n",
       "      <th>freq</th>\n",
       "      <th>mean</th>\n",
       "      <th>std</th>\n",
       "      <th>min</th>\n",
       "      <th>25%</th>\n",
       "      <th>50%</th>\n",
       "      <th>75%</th>\n",
       "      <th>max</th>\n",
       "    </tr>\n",
       "  </thead>\n",
       "  <tbody>\n",
       "    <tr>\n",
       "      <th>cust_id</th>\n",
       "      <td>3500</td>\n",
       "      <td>NaN</td>\n",
       "      <td>NaN</td>\n",
       "      <td>NaN</td>\n",
       "      <td>1749.5</td>\n",
       "      <td>1010.51</td>\n",
       "      <td>0</td>\n",
       "      <td>874.75</td>\n",
       "      <td>1749.5</td>\n",
       "      <td>2624.25</td>\n",
       "      <td>3499</td>\n",
       "    </tr>\n",
       "    <tr>\n",
       "      <th>총구매액</th>\n",
       "      <td>3500</td>\n",
       "      <td>NaN</td>\n",
       "      <td>NaN</td>\n",
       "      <td>NaN</td>\n",
       "      <td>9.19193e+07</td>\n",
       "      <td>1.63507e+08</td>\n",
       "      <td>-5.24215e+07</td>\n",
       "      <td>4.74705e+06</td>\n",
       "      <td>2.82227e+07</td>\n",
       "      <td>1.06508e+08</td>\n",
       "      <td>2.32318e+09</td>\n",
       "    </tr>\n",
       "    <tr>\n",
       "      <th>최대구매액</th>\n",
       "      <td>3500</td>\n",
       "      <td>NaN</td>\n",
       "      <td>NaN</td>\n",
       "      <td>NaN</td>\n",
       "      <td>1.96642e+07</td>\n",
       "      <td>3.19923e+07</td>\n",
       "      <td>-2.992e+06</td>\n",
       "      <td>2.875e+06</td>\n",
       "      <td>9.837e+06</td>\n",
       "      <td>2.29625e+07</td>\n",
       "      <td>7.06629e+08</td>\n",
       "    </tr>\n",
       "    <tr>\n",
       "      <th>환불금액</th>\n",
       "      <td>1205</td>\n",
       "      <td>NaN</td>\n",
       "      <td>NaN</td>\n",
       "      <td>NaN</td>\n",
       "      <td>2.40782e+07</td>\n",
       "      <td>4.74645e+07</td>\n",
       "      <td>5600</td>\n",
       "      <td>2.259e+06</td>\n",
       "      <td>7.392e+06</td>\n",
       "      <td>2.412e+07</td>\n",
       "      <td>5.63753e+08</td>\n",
       "    </tr>\n",
       "    <tr>\n",
       "      <th>주구매상품</th>\n",
       "      <td>3500</td>\n",
       "      <td>42</td>\n",
       "      <td>기타</td>\n",
       "      <td>595</td>\n",
       "      <td>NaN</td>\n",
       "      <td>NaN</td>\n",
       "      <td>NaN</td>\n",
       "      <td>NaN</td>\n",
       "      <td>NaN</td>\n",
       "      <td>NaN</td>\n",
       "      <td>NaN</td>\n",
       "    </tr>\n",
       "    <tr>\n",
       "      <th>주구매지점</th>\n",
       "      <td>3500</td>\n",
       "      <td>24</td>\n",
       "      <td>본  점</td>\n",
       "      <td>1077</td>\n",
       "      <td>NaN</td>\n",
       "      <td>NaN</td>\n",
       "      <td>NaN</td>\n",
       "      <td>NaN</td>\n",
       "      <td>NaN</td>\n",
       "      <td>NaN</td>\n",
       "      <td>NaN</td>\n",
       "    </tr>\n",
       "    <tr>\n",
       "      <th>내점일수</th>\n",
       "      <td>3500</td>\n",
       "      <td>NaN</td>\n",
       "      <td>NaN</td>\n",
       "      <td>NaN</td>\n",
       "      <td>19.2537</td>\n",
       "      <td>27.1749</td>\n",
       "      <td>1</td>\n",
       "      <td>2</td>\n",
       "      <td>8</td>\n",
       "      <td>25</td>\n",
       "      <td>285</td>\n",
       "    </tr>\n",
       "    <tr>\n",
       "      <th>내점당구매건수</th>\n",
       "      <td>3500</td>\n",
       "      <td>NaN</td>\n",
       "      <td>NaN</td>\n",
       "      <td>NaN</td>\n",
       "      <td>2.83496</td>\n",
       "      <td>1.91237</td>\n",
       "      <td>1</td>\n",
       "      <td>1.66667</td>\n",
       "      <td>2.33333</td>\n",
       "      <td>3.375</td>\n",
       "      <td>22.0833</td>\n",
       "    </tr>\n",
       "    <tr>\n",
       "      <th>주말방문비율</th>\n",
       "      <td>3500</td>\n",
       "      <td>NaN</td>\n",
       "      <td>NaN</td>\n",
       "      <td>NaN</td>\n",
       "      <td>0.307246</td>\n",
       "      <td>0.289752</td>\n",
       "      <td>0</td>\n",
       "      <td>0.0272909</td>\n",
       "      <td>0.25641</td>\n",
       "      <td>0.44898</td>\n",
       "      <td>1</td>\n",
       "    </tr>\n",
       "    <tr>\n",
       "      <th>구매주기</th>\n",
       "      <td>3500</td>\n",
       "      <td>NaN</td>\n",
       "      <td>NaN</td>\n",
       "      <td>NaN</td>\n",
       "      <td>20.9583</td>\n",
       "      <td>24.7487</td>\n",
       "      <td>0</td>\n",
       "      <td>4</td>\n",
       "      <td>13</td>\n",
       "      <td>28</td>\n",
       "      <td>166</td>\n",
       "    </tr>\n",
       "  </tbody>\n",
       "</table>\n",
       "</div>"
      ],
      "text/plain": [
       "        count unique   top  freq         mean          std          min  \\\n",
       "cust_id  3500    NaN   NaN   NaN       1749.5      1010.51            0   \n",
       "총구매액     3500    NaN   NaN   NaN  9.19193e+07  1.63507e+08 -5.24215e+07   \n",
       "최대구매액    3500    NaN   NaN   NaN  1.96642e+07  3.19923e+07   -2.992e+06   \n",
       "환불금액     1205    NaN   NaN   NaN  2.40782e+07  4.74645e+07         5600   \n",
       "주구매상품    3500     42    기타   595          NaN          NaN          NaN   \n",
       "주구매지점    3500     24  본  점  1077          NaN          NaN          NaN   \n",
       "내점일수     3500    NaN   NaN   NaN      19.2537      27.1749            1   \n",
       "내점당구매건수  3500    NaN   NaN   NaN      2.83496      1.91237            1   \n",
       "주말방문비율   3500    NaN   NaN   NaN     0.307246     0.289752            0   \n",
       "구매주기     3500    NaN   NaN   NaN      20.9583      24.7487            0   \n",
       "\n",
       "                 25%          50%          75%          max  \n",
       "cust_id       874.75       1749.5      2624.25         3499  \n",
       "총구매액     4.74705e+06  2.82227e+07  1.06508e+08  2.32318e+09  \n",
       "최대구매액      2.875e+06    9.837e+06  2.29625e+07  7.06629e+08  \n",
       "환불금액       2.259e+06    7.392e+06    2.412e+07  5.63753e+08  \n",
       "주구매상품            NaN          NaN          NaN          NaN  \n",
       "주구매지점            NaN          NaN          NaN          NaN  \n",
       "내점일수               2            8           25          285  \n",
       "내점당구매건수      1.66667      2.33333        3.375      22.0833  \n",
       "주말방문비율     0.0272909      0.25641      0.44898            1  \n",
       "구매주기               4           13           28          166  "
      ]
     },
     "execution_count": 29,
     "metadata": {},
     "output_type": "execute_result"
    }
   ],
   "source": [
    "desc_t = x_train.describe(include='all').T\n",
    "desc_t"
   ]
  },
  {
   "cell_type": "code",
   "execution_count": 30,
   "metadata": {},
   "outputs": [
    {
     "data": {
      "text/plain": [
       "cust_id       0\n",
       "총구매액          0\n",
       "최대구매액         0\n",
       "환불금액       2295\n",
       "주구매상품         0\n",
       "주구매지점         0\n",
       "내점일수          0\n",
       "내점당구매건수       0\n",
       "주말방문비율        0\n",
       "구매주기          0\n",
       "dtype: int64"
      ]
     },
     "execution_count": 30,
     "metadata": {},
     "output_type": "execute_result"
    }
   ],
   "source": [
    "x_train.isnull().sum()"
   ]
  },
  {
   "cell_type": "markdown",
   "metadata": {},
   "source": [
    "- 환불금액에 2295개의 null값이 존재. -> 최소환불금액이 5600원이므로, 환불안한사람은 null 을 가지고있음. fillna(0) 처리\n",
    "- 주구매상품, 주구매지점 -> 카테고리 컬럼이므로, one-hot encoding 을 적용\n"
   ]
  },
  {
   "cell_type": "code",
   "execution_count": 31,
   "metadata": {},
   "outputs": [],
   "source": [
    "x_train=x_train.fillna(0)\n",
    "x_test=x_test.fillna(0)"
   ]
  },
  {
   "cell_type": "code",
   "execution_count": 32,
   "metadata": {},
   "outputs": [],
   "source": [
    "x_train=pd.get_dummies(x_train, columns = ['주구매상품', '주구매지점'], drop_first = True)\n",
    "x_test=pd.get_dummies(x_test, columns = ['주구매상품', '주구매지점'], drop_first = True)"
   ]
  },
  {
   "cell_type": "code",
   "execution_count": 41,
   "metadata": {},
   "outputs": [
    {
     "name": "stdout",
     "output_type": "stream",
     "text": [
      "(3500, 71) (3500, 2) (2482, 71)\n"
     ]
    },
    {
     "data": {
      "text/plain": [
       "set()"
      ]
     },
     "execution_count": 41,
     "metadata": {},
     "output_type": "execute_result"
    }
   ],
   "source": [
    "print(x_train.shape ,y_train.shape , x_test.shape)\n",
    "set(list(x_train.columns)) - set(list(x_test.columns))"
   ]
  },
  {
   "cell_type": "code",
   "execution_count": 40,
   "metadata": {},
   "outputs": [],
   "source": [
    "# x_test는 없으므로, 학습을 시키지 않음 \n",
    "x_train = x_train.drop('주구매상품_소형가전', axis = 1)"
   ]
  },
  {
   "cell_type": "code",
   "execution_count": 43,
   "metadata": {},
   "outputs": [
    {
     "data": {
      "text/html": [
       "<div>\n",
       "<style scoped>\n",
       "    .dataframe tbody tr th:only-of-type {\n",
       "        vertical-align: middle;\n",
       "    }\n",
       "\n",
       "    .dataframe tbody tr th {\n",
       "        vertical-align: top;\n",
       "    }\n",
       "\n",
       "    .dataframe thead th {\n",
       "        text-align: right;\n",
       "    }\n",
       "</style>\n",
       "<table border=\"1\" class=\"dataframe\">\n",
       "  <thead>\n",
       "    <tr style=\"text-align: right;\">\n",
       "      <th></th>\n",
       "      <th>cust_id</th>\n",
       "      <th>gender</th>\n",
       "    </tr>\n",
       "  </thead>\n",
       "  <tbody>\n",
       "    <tr>\n",
       "      <th>0</th>\n",
       "      <td>0</td>\n",
       "      <td>0</td>\n",
       "    </tr>\n",
       "    <tr>\n",
       "      <th>1</th>\n",
       "      <td>1</td>\n",
       "      <td>0</td>\n",
       "    </tr>\n",
       "    <tr>\n",
       "      <th>2</th>\n",
       "      <td>2</td>\n",
       "      <td>1</td>\n",
       "    </tr>\n",
       "    <tr>\n",
       "      <th>3</th>\n",
       "      <td>3</td>\n",
       "      <td>1</td>\n",
       "    </tr>\n",
       "    <tr>\n",
       "      <th>4</th>\n",
       "      <td>4</td>\n",
       "      <td>0</td>\n",
       "    </tr>\n",
       "    <tr>\n",
       "      <th>...</th>\n",
       "      <td>...</td>\n",
       "      <td>...</td>\n",
       "    </tr>\n",
       "    <tr>\n",
       "      <th>3495</th>\n",
       "      <td>3495</td>\n",
       "      <td>1</td>\n",
       "    </tr>\n",
       "    <tr>\n",
       "      <th>3496</th>\n",
       "      <td>3496</td>\n",
       "      <td>1</td>\n",
       "    </tr>\n",
       "    <tr>\n",
       "      <th>3497</th>\n",
       "      <td>3497</td>\n",
       "      <td>0</td>\n",
       "    </tr>\n",
       "    <tr>\n",
       "      <th>3498</th>\n",
       "      <td>3498</td>\n",
       "      <td>0</td>\n",
       "    </tr>\n",
       "    <tr>\n",
       "      <th>3499</th>\n",
       "      <td>3499</td>\n",
       "      <td>0</td>\n",
       "    </tr>\n",
       "  </tbody>\n",
       "</table>\n",
       "<p>3500 rows × 2 columns</p>\n",
       "</div>"
      ],
      "text/plain": [
       "      cust_id  gender\n",
       "0           0       0\n",
       "1           1       0\n",
       "2           2       1\n",
       "3           3       1\n",
       "4           4       0\n",
       "...       ...     ...\n",
       "3495     3495       1\n",
       "3496     3496       1\n",
       "3497     3497       0\n",
       "3498     3498       0\n",
       "3499     3499       0\n",
       "\n",
       "[3500 rows x 2 columns]"
      ]
     },
     "execution_count": 43,
     "metadata": {},
     "output_type": "execute_result"
    }
   ],
   "source": [
    "y_train"
   ]
  },
  {
   "cell_type": "code",
   "execution_count": null,
   "metadata": {},
   "outputs": [],
   "source": []
  }
 ],
 "metadata": {
  "kernelspec": {
   "display_name": "Python 3",
   "language": "python",
   "name": "python3"
  },
  "language_info": {
   "codemirror_mode": {
    "name": "ipython",
    "version": 3
   },
   "file_extension": ".py",
   "mimetype": "text/x-python",
   "name": "python",
   "nbconvert_exporter": "python",
   "pygments_lexer": "ipython3",
   "version": "3.8.5"
  }
 },
 "nbformat": 4,
 "nbformat_minor": 4
}
